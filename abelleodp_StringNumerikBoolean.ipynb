{
 "cells": [
  {
   "cell_type": "code",
   "execution_count": 1,
   "id": "fdaefb80-f75b-4415-bf9e-0939b2c18d0c",
   "metadata": {},
   "outputs": [
    {
     "name": "stdout",
     "output_type": "stream",
     "text": [
      "Halo Takumi\n",
      "Halo Takumi\n"
     ]
    }
   ],
   "source": [
    "# Type String\n",
    "print('Halo Takumi') #membuat string dengan tanda petik tunggal\n",
    "print(\"Halo Takumi\") #membuat string dengan tanda petik tunggal\n"
   ]
  },
  {
   "cell_type": "code",
   "execution_count": 2,
   "id": "d9dde95f-70b1-4418-80f4-cdaa935b7b96",
   "metadata": {},
   "outputs": [
    {
     "name": "stdout",
     "output_type": "stream",
     "text": [
      "Halo\n",
      "Takumi\n",
      "Halo Takumi\n"
     ]
    }
   ],
   "source": [
    "# Variabel type String\n",
    "s1 = 'Halo' #Variabel String 1\n",
    "s2 = 'Takumi' #Variabel String 2\n",
    "\n",
    "# menampilkan type string\n",
    "print(s1)\n",
    "print(s2)\n",
    "print(s1 +' '+ s2)"
   ]
  },
  {
   "cell_type": "code",
   "execution_count": 3,
   "id": "2df0e82c-b74f-49aa-baed-2cd3e3e0b98a",
   "metadata": {},
   "outputs": [
    {
     "name": "stdout",
     "output_type": "stream",
     "text": [
      "False\n",
      "False\n",
      "True\n",
      "True\n",
      "True\n"
     ]
    }
   ],
   "source": [
    "# Membandingkan String\n",
    "s1 = 'Halo' #Variabel String 1\n",
    "s2 = 'Takumi' #Variabel String 2\n",
    "\n",
    "print(s1 > s2)\n",
    "print(s1 >= s2)\n",
    "print(s1 < s2)\n",
    "print(s1 <= s2)\n",
    "print(s1 != s2)"
   ]
  },
  {
   "cell_type": "code",
   "execution_count": 4,
   "id": "dfb66460-fed8-4814-b689-e87e1fa56eef",
   "metadata": {},
   "outputs": [
    {
     "name": "stdout",
     "output_type": "stream",
     "text": [
      "T\n",
      "k\n",
      "Ta\n",
      "Taku\n",
      "umi\n",
      "mi\n",
      "Tak\n",
      "Takumi oke\n",
      "TakumiTakumi\n"
     ]
    }
   ],
   "source": [
    "# Mengambil Substring; menggunakan tanda bracket []\n",
    "\n",
    "s = 'Takumi'\n",
    "\n",
    "print(s[0]) #menampilkan sub string karakter pertama\n",
    "print(s[-4]) #menampilkan sub string karakter ke 4 dari kanan\n",
    "print(s[:2]) #menampilkan dua karakter di awal\n",
    "print(s[:-2]) #menghilangkan dua karakter terakhir \n",
    "print(s[3:]) #menampilkan tiga karakter terakhir\n",
    "print(s[-2:]) #menampilkan dua karakter terakhir\n",
    "print(s[0:3]) #menampilkan karakter dari 0\n",
    "len(s) #menunjukkan jumlah karakter\n",
    "print(s +' '+ 'oke') #penggabungan\n",
    "print(s*2) #pengulangan"
   ]
  },
  {
   "cell_type": "code",
   "execution_count": 5,
   "id": "1698c973-a85c-4416-b6a3-2af9b6fa7822",
   "metadata": {},
   "outputs": [
    {
     "data": {
      "text/plain": [
       "1"
      ]
     },
     "execution_count": 5,
     "metadata": {},
     "output_type": "execute_result"
    }
   ],
   "source": [
    "#Menemukan offset substring\n",
    "s = 'Takumi'\n",
    "s.find('aku')"
   ]
  },
  {
   "cell_type": "code",
   "execution_count": 6,
   "id": "4e1d622e-52ec-4c0f-a4e4-7313cf9f5560",
   "metadata": {},
   "outputs": [
    {
     "data": {
      "text/plain": [
       "'TAKUmi'"
      ]
     },
     "execution_count": 6,
     "metadata": {},
     "output_type": "execute_result"
    }
   ],
   "source": [
    "#Mengganti kemunculan suatu substring dengan substring lainnya\n",
    "s = 'Takumi'\n",
    "s.replace('aku', 'AKU')"
   ]
  },
  {
   "cell_type": "code",
   "execution_count": 7,
   "id": "b8de95aa-42ce-4565-8999-f745ba245b58",
   "metadata": {},
   "outputs": [
    {
     "data": {
      "text/plain": [
       "'TAKUMI'"
      ]
     },
     "execution_count": 7,
     "metadata": {},
     "output_type": "execute_result"
    }
   ],
   "source": [
    "#Mengkonversi huruf besar dan kecil\n",
    "s = 'Takumi'\n",
    "s.upper()"
   ]
  },
  {
   "cell_type": "code",
   "execution_count": 8,
   "id": "61d910b9-7a4f-4d15-a85e-3ef5119020b6",
   "metadata": {},
   "outputs": [
    {
     "name": "stdout",
     "output_type": "stream",
     "text": [
      "<class 'int'>\n",
      "<class 'int'>\n",
      "<class 'int'>\n"
     ]
    }
   ],
   "source": [
    "#Type integer\n",
    "a = 1\n",
    "b = -17\n",
    "c = 100\n",
    "\n",
    "print(type(a))\n",
    "print(type(b))\n",
    "print(type(c))"
   ]
  },
  {
   "cell_type": "code",
   "execution_count": 9,
   "id": "1b7f9a6a-97b0-4db1-940a-678a269ddc4e",
   "metadata": {},
   "outputs": [
    {
     "name": "stdout",
     "output_type": "stream",
     "text": [
      "<class 'float'>\n",
      "<class 'float'>\n",
      "<class 'float'>\n"
     ]
    }
   ],
   "source": [
    "#Type float\n",
    "x = 3.14\n",
    "y = -0.175\n",
    "z = 2.05\n",
    "\n",
    "print(type(x))\n",
    "print(type(y))\n",
    "print(type(z))"
   ]
  },
  {
   "cell_type": "code",
   "execution_count": 10,
   "id": "119f40e8-2ea3-4e90-8b6f-b9a1d5d3563e",
   "metadata": {},
   "outputs": [
    {
     "name": "stdout",
     "output_type": "stream",
     "text": [
      "<class 'complex'>\n",
      "<class 'complex'>\n",
      "3.0\n",
      "2.0\n"
     ]
    }
   ],
   "source": [
    "#Type Complex\n",
    "s1 = 3 + 2j\n",
    "s2 = -2.5j\n",
    "\n",
    "print(type(s1))\n",
    "print(type(s2))\n",
    "print(s1.real) #menampilkan bilangan real\n",
    "print(s1.imag) #menampilkan bilangan imajiner"
   ]
  },
  {
   "cell_type": "code",
   "execution_count": 13,
   "id": "b30c366b-7c61-408a-b6f3-7c61f7cccbd5",
   "metadata": {},
   "outputs": [
    {
     "name": "stdout",
     "output_type": "stream",
     "text": [
      "3\n",
      "-17.0\n",
      "(-0.175+0j)\n"
     ]
    }
   ],
   "source": [
    "#Konversi tipe Data Numerik\n",
    "\n",
    "#Konversi ke integer\n",
    "x = int(3.14)\n",
    "print(x)\n",
    "\n",
    "#Konversi ke float\n",
    "b = float(-17)\n",
    "print(b)\n",
    "\n",
    "#Konversi ke complex\n",
    "y = complex(-0.175)\n",
    "print(y)"
   ]
  },
  {
   "cell_type": "code",
   "execution_count": 14,
   "id": "893c3cc7-c092-48da-a6a2-a2a7abaf409c",
   "metadata": {},
   "outputs": [
    {
     "name": "stdout",
     "output_type": "stream",
     "text": [
      "21\n",
      "9\n",
      "90\n",
      "2.5\n",
      "2\n",
      "3\n",
      "11390625\n"
     ]
    }
   ],
   "source": [
    "#Operasi Aritmatika\n",
    "a = 15\n",
    "b = 6\n",
    "print(a + b) #penjumlahan\n",
    "print(a - b) #pengurangan\n",
    "print(a * b) #perkalian\n",
    "print(a / b) #pembagian\n",
    "print(a // b) #untuk pembagian bilangan bulat\n",
    "print(a % b) #modulus\n",
    "print(a ** b) #eksponen"
   ]
  },
  {
   "cell_type": "code",
   "execution_count": 15,
   "id": "0343c35b-cabf-4ddf-8936-9135d52ae146",
   "metadata": {},
   "outputs": [
    {
     "name": "stdout",
     "output_type": "stream",
     "text": [
      "2.0\n",
      "6.283185307179586\n",
      "1.0\n"
     ]
    }
   ],
   "source": [
    "#Modul math\n",
    "import math\n",
    "a = 4\n",
    "b = 2\n",
    "c = 0\n",
    "print(math.sqrt(a)) #akar variabel a = 4\n",
    "print(math.pi*(b)) #perkalian variabel b = 2 dengan pi = 3.14\n",
    "print(math.cos(c)) #cosinus  variabel c = 0"
   ]
  },
  {
   "cell_type": "code",
   "execution_count": 16,
   "id": "b98c9f6f-32ba-4748-8ba3-7a436b951dac",
   "metadata": {},
   "outputs": [
    {
     "name": "stdout",
     "output_type": "stream",
     "text": [
      "(1.600485180440241+1.2496210676876531j)\n",
      "(22.979085577886128+14.744805188558727j)\n"
     ]
    }
   ],
   "source": [
    "#Modul cmath\n",
    "import cmath\n",
    "z = 1 + 4j\n",
    "print(cmath.sqrt(z)) #akar variabel z\n",
    "print(cmath.sin(z)) #sinus variabel z"
   ]
  },
  {
   "cell_type": "code",
   "execution_count": 17,
   "id": "07e0b707-0e41-4671-94ca-b59edac55987",
   "metadata": {},
   "outputs": [
    {
     "name": "stdout",
     "output_type": "stream",
     "text": [
      "<class 'bool'>\n",
      "<class 'bool'>\n"
     ]
    }
   ],
   "source": [
    "#Type Boolean (bool)\n",
    "t = True\n",
    "f = False\n",
    "\n",
    "print(type(t))\n",
    "print(type(f))\n",
    "\n"
   ]
  },
  {
   "cell_type": "code",
   "execution_count": 18,
   "id": "4eafa1ec-13a5-47e5-815f-528e3cdc43be",
   "metadata": {},
   "outputs": [
    {
     "name": "stdout",
     "output_type": "stream",
     "text": [
      "False\n",
      "True\n",
      "False\n",
      "True\n",
      "True\n",
      "False\n"
     ]
    }
   ],
   "source": [
    "#Operasi type Boolean\n",
    "t = True\n",
    "f = False\n",
    "\n",
    "print(t and f)\n",
    "print(t and t)\n",
    "print(f and f)\n",
    "print(t or f)\n",
    "print(t or t)\n",
    "print(f or f)"
   ]
  },
  {
   "cell_type": "code",
   "execution_count": null,
   "id": "6c499b3a-d4a8-4859-82f8-f057d919ea37",
   "metadata": {},
   "outputs": [],
   "source": []
  }
 ],
 "metadata": {
  "kernelspec": {
   "display_name": "Python 3 (ipykernel)",
   "language": "python",
   "name": "python3"
  },
  "language_info": {
   "codemirror_mode": {
    "name": "ipython",
    "version": 3
   },
   "file_extension": ".py",
   "mimetype": "text/x-python",
   "name": "python",
   "nbconvert_exporter": "python",
   "pygments_lexer": "ipython3",
   "version": "3.11.5"
  }
 },
 "nbformat": 4,
 "nbformat_minor": 5
}
