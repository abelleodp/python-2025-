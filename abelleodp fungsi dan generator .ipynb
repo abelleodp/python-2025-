{
 "cells": [
  {
   "cell_type": "code",
   "execution_count": 2,
   "id": "262dda47-3ae6-4ce6-ad7d-474bdc9bc187",
   "metadata": {},
   "outputs": [
    {
     "ename": "IndentationError",
     "evalue": "unindent does not match any outer indentation level (<tokenize>, line 5)",
     "output_type": "error",
     "traceback": [
      "  \u001b[36mFile \u001b[39m\u001b[32m<tokenize>:5\u001b[39m\n\u001b[31m    \u001b[39m\u001b[31mh1 = sisabagi(10, 3)\u001b[39m\n    ^\n\u001b[31mIndentationError\u001b[39m\u001b[31m:\u001b[39m unindent does not match any outer indentation level\n"
     ]
    }
   ],
   "source": [
    "def sisabagi (a,b) :\n",
    "    hasil = a % b \n",
    "    return hasil \n",
    "\n",
    " h1 = sisabagi(10, 3) \n",
    " h2 = sisabagi(14, 4) \n",
    " h3 = sisabagi (17, 7)\n",
    "\n",
    "print(h1)\n",
    "print(h2)\n",
    "print(h3)"
   ]
  },
  {
   "cell_type": "code",
   "execution_count": 3,
   "id": "d6672236-102a-4ea2-8fe0-bceb9a8b68ef",
   "metadata": {},
   "outputs": [],
   "source": [
    "# count variabel global \n",
    "count = 0 \n",
    "# fungsi yang mengakses variabel global \n",
    "def increment():\n",
    "    global count\n",
    "    count +=1 # mengubah nilai variabel global\n",
    "\n",
    "    # menanmpilkan nilai awal variabel global \n",
    "    print(count)\n",
    "\n",
    "    # memanggil fungsi increment ()\n",
    "    increment()\n",
    "\n",
    "    # menanmpilkan nilai count\n",
    "    # setelah pemanggilan fungsi increment ()\n",
    "    print(count)\n",
    "    increment()\n",
    "    print(count)"
   ]
  },
  {
   "cell_type": "code",
   "execution_count": 4,
   "id": "a9035e11-40fa-4cce-8214-0d00a2b1b8bc",
   "metadata": {},
   "outputs": [
    {
     "ename": "AttributeError",
     "evalue": "'generator' object has no attribute '_next__'",
     "output_type": "error",
     "traceback": [
      "\u001b[31m---------------------------------------------------------------------------\u001b[39m",
      "\u001b[31mAttributeError\u001b[39m                            Traceback (most recent call last)",
      "\u001b[36mCell\u001b[39m\u001b[36m \u001b[39m\u001b[32mIn[4]\u001b[39m\u001b[32m, line 8\u001b[39m\n\u001b[32m      6\u001b[39m         n += \u001b[32m1\u001b[39m \n\u001b[32m      7\u001b[39m g = generator (\u001b[32m0\u001b[39m)\n\u001b[32m----> \u001b[39m\u001b[32m8\u001b[39m \u001b[38;5;28mprint\u001b[39m(\u001b[43mg\u001b[49m\u001b[43m.\u001b[49m\u001b[43m_next__\u001b[49m())\n\u001b[32m      9\u001b[39m \u001b[38;5;28mprint\u001b[39m(g._next__())\n\u001b[32m     10\u001b[39m \u001b[38;5;28mprint\u001b[39m(g._next__())\n",
      "\u001b[31mAttributeError\u001b[39m: 'generator' object has no attribute '_next__'"
     ]
    }
   ],
   "source": [
    "# generator \n",
    "def generator(n) :\n",
    "    MAX = 2147483647\n",
    "    while n < MAX:\n",
    "        yield n \n",
    "        n += 1 \n",
    "g = generator (0)\n",
    "print(g._next__())\n",
    "print(g._next__())\n",
    "print(g._next__())\n"
   ]
  },
  {
   "cell_type": "code",
   "execution_count": 5,
   "id": "d983555e-7a26-4795-a64e-cbc810540bc7",
   "metadata": {},
   "outputs": [
    {
     "name": "stdout",
     "output_type": "stream",
     "text": [
      "0\n",
      "1\n",
      "2\n"
     ]
    }
   ],
   "source": [
    "# generator \n",
    "def generator(n) :\n",
    "    MAX = 2147483647\n",
    "    while n < MAX:\n",
    "        yield n \n",
    "        n += 1 \n",
    "g = generator (0)\n",
    "print(g.__next__())\n",
    "print(g.__next__())\n",
    "print(g.__next__())\n"
   ]
  },
  {
   "cell_type": "code",
   "execution_count": 7,
   "id": "9193719e-46e5-4df5-9e1c-dd9a2a4e0128",
   "metadata": {},
   "outputs": [
    {
     "ename": "NameError",
     "evalue": "name 'true' is not defined",
     "output_type": "error",
     "traceback": [
      "\u001b[31m---------------------------------------------------------------------------\u001b[39m",
      "\u001b[31mNameError\u001b[39m                                 Traceback (most recent call last)",
      "\u001b[36mCell\u001b[39m\u001b[36m \u001b[39m\u001b[32mIn[7]\u001b[39m\u001b[32m, line 1\u001b[39m\n\u001b[32m----> \u001b[39m\u001b[32m1\u001b[39m \u001b[38;5;28;01mdef\u001b[39;00m\u001b[38;5;250m \u001b[39m\u001b[34mwrite\u001b[39m(s, newline=\u001b[43mtrue\u001b[49m) :\n\u001b[32m      2\u001b[39m     \u001b[38;5;28mprint\u001b[39m(s, end=\u001b[33m'\u001b[39m\u001b[33m'\u001b[39m)\n\u001b[32m      3\u001b[39m     \u001b[38;5;28;01mif\u001b[39;00m newline:\u001b[38;5;28mprint\u001b[39m()\n",
      "\u001b[31mNameError\u001b[39m: name 'true' is not defined"
     ]
    }
   ],
   "source": [
    "def write(s, newline=true) :\n",
    "    print(s, end='')\n",
    "    if newline:print()\n",
    "\n",
    "write('pemrograman ', false); write(\"python\")\n",
    "\n",
    "write('pemrograman ');  write(\"python\")"
   ]
  },
  {
   "cell_type": "code",
   "execution_count": null,
   "id": "453edd4e-a67f-4105-be35-da5cdc304155",
   "metadata": {},
   "outputs": [],
   "source": [
    "def write(s, newline=true) :\n",
    "    print(s, end='')\n",
    "    if newline:print()\n",
    "\n",
    "write('pemrograman ', false); write(\"python\")\n",
    "\n",
    "write('pemrograman ');  write(\"python\") "
   ]
  }
 ],
 "metadata": {
  "kernelspec": {
   "display_name": "Python 3 (ipykernel)",
   "language": "python",
   "name": "python3"
  },
  "language_info": {
   "codemirror_mode": {
    "name": "ipython",
    "version": 3
   },
   "file_extension": ".py",
   "mimetype": "text/x-python",
   "name": "python",
   "nbconvert_exporter": "python",
   "pygments_lexer": "ipython3",
   "version": "3.11.5"
  }
 },
 "nbformat": 4,
 "nbformat_minor": 5
}
