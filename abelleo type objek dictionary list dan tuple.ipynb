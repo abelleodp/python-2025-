{
 "cells": [
  {
   "cell_type": "code",
   "execution_count": 1,
   "id": "ccfe83dc-3803-4638-b9d6-49eb687b755a",
   "metadata": {},
   "outputs": [
    {
     "name": "stdout",
     "output_type": "stream",
     "text": [
      "dosen: eko\n",
      "prodi: Mekatronika\n",
      "kuliah: python\n"
     ]
    }
   ],
   "source": [
    "dic = {'Dosen':'eko', 'prodi':'Mekatronika', 'kuliah':'python'} # dibuat variabel\n",
    "print(\"dosen:\", dic['Dosen'])\n",
    "print(\"prodi:\", dic['prodi'])\n",
    "print(\"kuliah:\", dic['kuliah'])\n"
   ]
  },
  {
   "cell_type": "code",
   "execution_count": 2,
   "id": "9e8256c4-ac87-4d1f-966a-563213963e0a",
   "metadata": {},
   "outputs": [
    {
     "name": "stdout",
     "output_type": "stream",
     "text": [
      "satu: 5\n",
      "dua: 10\n"
     ]
    }
   ],
   "source": [
    "dic ={'satu':5,'dua':10} # variabel dictionary\n",
    "print(\"satu:\", dic['satu']) \n",
    "print(\"dua:\", dic['dua']) \n"
   ]
  },
  {
   "cell_type": "code",
   "execution_count": 3,
   "id": "81106aee-492f-4918-99e5-309c2373f040",
   "metadata": {},
   "outputs": [
    {
     "name": "stdout",
     "output_type": "stream",
     "text": [
      "index List\n",
      "10\n",
      "30\n",
      "50\n",
      "50\n",
      "40\n",
      "10\n",
      "Banyaknya elemen\n",
      "5\n"
     ]
    }
   ],
   "source": [
    "# type list \n",
    "#contoh \n",
    "list = [10, 20 , 30 , 40 , 50 ]\n",
    "# index elemen di dalam list \n",
    "print('index List')\n",
    "print(list[0]) #bernilai 10 \n",
    "print(list[2]) #bernilai 30\n",
    "print(list[4]) #bernilai 50\n",
    "print(list[-1]) #bernilai 50 \n",
    "print(list[-2]) #bernilai 40\n",
    "print(list[-5]) #bernilai 10\n",
    "print('Banyaknya elemen')\n",
    "print(len(list))\n"
   ]
  },
  {
   "cell_type": "code",
   "execution_count": 4,
   "id": "b3d9db39-ae75-49bf-b0ae-2c1c9d5dfcf0",
   "metadata": {},
   "outputs": [
    {
     "name": "stdout",
     "output_type": "stream",
     "text": [
      "<class 'tuple'>\n",
      "('minggu', 'senin', 'selasa', 'rabu', 'kamis', 'jumat', 'sabtu')\n",
      "minggu\n",
      "selasa\n",
      "jumat\n"
     ]
    }
   ],
   "source": [
    "# contoh type tuple \n",
    "# tuple sebenarnya mirip dengan aray konstan\n",
    "# contoh '\n",
    "hari =('minggu', 'senin', 'selasa' , 'rabu' , 'kamis' , 'jumat' , 'sabtu')\n",
    "print(type(hari))\n",
    "# menanmpillkan hari \n",
    "print(hari)\n",
    "print(hari[0])\n",
    "print(hari[2])\n",
    "print(hari[5])"
   ]
  },
  {
   "cell_type": "code",
   "execution_count": null,
   "id": "664a467f-c458-407c-87f3-58504e5ccf62",
   "metadata": {},
   "outputs": [],
   "source": []
  }
 ],
 "metadata": {
  "kernelspec": {
   "display_name": "Python 3 (ipykernel)",
   "language": "python",
   "name": "python3"
  },
  "language_info": {
   "codemirror_mode": {
    "name": "ipython",
    "version": 3
   },
   "file_extension": ".py",
   "mimetype": "text/x-python",
   "name": "python",
   "nbconvert_exporter": "python",
   "pygments_lexer": "ipython3",
   "version": "3.11.5"
  }
 },
 "nbformat": 4,
 "nbformat_minor": 5
}
