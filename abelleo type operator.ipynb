{
 "cells": [
  {
   "cell_type": "code",
   "execution_count": 1,
   "id": "4e9c8f31-94b7-44ae-818a-495ccfeb7eba",
   "metadata": {},
   "outputs": [
    {
     "name": "stdout",
     "output_type": "stream",
     "text": [
      "5\n"
     ]
    }
   ],
   "source": [
    "a = 5 \n",
    "print(a) # menggunakan tanda operasi "
   ]
  },
  {
   "cell_type": "code",
   "execution_count": 2,
   "id": "f022a7a4-6d41-4a18-a4bb-9b2ee09ec8e4",
   "metadata": {},
   "outputs": [
    {
     "name": "stdout",
     "output_type": "stream",
     "text": [
      "13\n"
     ]
    }
   ],
   "source": [
    "a = 5 \n",
    "a = a + 8 # a baru + a lama + 8 \n",
    "print(a)"
   ]
  },
  {
   "cell_type": "code",
   "execution_count": 3,
   "id": "359cba18-7a3c-493a-849b-e66eab44b6c5",
   "metadata": {},
   "outputs": [
    {
     "name": "stdout",
     "output_type": "stream",
     "text": [
      "30\n"
     ]
    }
   ],
   "source": [
    "# operasi perkalian \n",
    "b = 10 \n",
    "b *= 3 \n",
    "print(b)"
   ]
  },
  {
   "cell_type": "code",
   "execution_count": 4,
   "id": "99b391d7-88f2-412d-adb4-b6dab88a67bb",
   "metadata": {},
   "outputs": [
    {
     "name": "stdout",
     "output_type": "stream",
     "text": [
      "4\n",
      "4.285714285714286\n"
     ]
    }
   ],
   "source": [
    "# operasi pembagian bilangan bulat (//=) \n",
    "b = 30 \n",
    "b //=7\n",
    "print(b)\n",
    "print(30/7)\n"
   ]
  },
  {
   "cell_type": "code",
   "execution_count": 5,
   "id": "ac34096d-df18-4ac9-8997-da760957ff50",
   "metadata": {},
   "outputs": [
    {
     "name": "stdout",
     "output_type": "stream",
     "text": [
      "4.285714285714286\n",
      "4.285714285714286\n"
     ]
    }
   ],
   "source": [
    "# operasi pembagian riil (/=) \n",
    "b = 30.0\n",
    "b /= 7 \n",
    "print(b)\n",
    "print(30/7)"
   ]
  },
  {
   "cell_type": "code",
   "execution_count": 6,
   "id": "feb5895a-d748-4a8b-aa78-d5702fff87e2",
   "metadata": {},
   "outputs": [
    {
     "ename": "SyntaxError",
     "evalue": "invalid syntax. Perhaps you forgot a comma? (3344153520.py, line 5)",
     "output_type": "error",
     "traceback": [
      "  \u001b[36mCell\u001b[39m\u001b[36m \u001b[39m\u001b[32mIn[6]\u001b[39m\u001b[32m, line 5\u001b[39m\n\u001b[31m    \u001b[39m\u001b[31mprint('True and True /t:', (True and True)\u001b[39m\n                                ^\n\u001b[31mSyntaxError\u001b[39m\u001b[31m:\u001b[39m invalid syntax. Perhaps you forgot a comma?\n"
     ]
    }
   ],
   "source": [
    "# operator logika \n",
    "# contoh program operasi AND \n",
    "def main():\n",
    "    print('Operasi AND')\n",
    "    print('True and True /t:', (True and True)\n",
    "    print('True and True /t:', (True and False)\n",
    "    print('True and True /t:', (False and True)\n",
    "    print('True and True /t:', (True and False)\n",
    "          \n",
    "      if ___name___ == '___main___' :\n",
    "          main()"
   ]
  },
  {
   "cell_type": "code",
   "execution_count": 7,
   "id": "747ff5ff-688a-4b89-85ec-e78d29d40e63",
   "metadata": {},
   "outputs": [
    {
     "ename": "SyntaxError",
     "evalue": "invalid syntax. Perhaps you forgot a comma? (217734567.py, line 5)",
     "output_type": "error",
     "traceback": [
      "  \u001b[36mCell\u001b[39m\u001b[36m \u001b[39m\u001b[32mIn[7]\u001b[39m\u001b[32m, line 5\u001b[39m\n\u001b[31m    \u001b[39m\u001b[31mprint('True and True /t:', (True and True)\u001b[39m\n                                ^\n\u001b[31mSyntaxError\u001b[39m\u001b[31m:\u001b[39m invalid syntax. Perhaps you forgot a comma?\n"
     ]
    }
   ],
   "source": [
    "# operator logika \n",
    "# contoh program operasi AND \n",
    "def main():\n",
    "    print('Operasi AND')\n",
    "    print('True and True /t:', (True and True)\n",
    "    print('True and False /t:', (True and False)\n",
    "    print('False and True /t:', (False and True)\n",
    "    print('True and False /t:', (True and False)\n",
    "          \n",
    "      if ___name___ == '___main___' :\n",
    "          main()"
   ]
  },
  {
   "cell_type": "code",
   "execution_count": 8,
   "id": "3449f056-3e08-43cf-bb9f-7dccbae741a9",
   "metadata": {},
   "outputs": [
    {
     "name": "stdout",
     "output_type": "stream",
     "text": [
      "TTT\n",
      "TTT TTT TTT TTT TTT \n"
     ]
    }
   ],
   "source": [
    "# contoh \n",
    "karakter = 'T'\n",
    "teks = karakter * 3 \n",
    "print(teks)\n",
    "print((teks +' ') * 5)"
   ]
  },
  {
   "cell_type": "code",
   "execution_count": 9,
   "id": "0cf93ec6-2d3d-477f-9e2b-787f39e85e2a",
   "metadata": {},
   "outputs": [
    {
     "ename": "IndentationError",
     "evalue": "unexpected indent (506484660.py, line 6)",
     "output_type": "error",
     "traceback": [
      "  \u001b[36mCell\u001b[39m\u001b[36m \u001b[39m\u001b[32mIn[9]\u001b[39m\u001b[32m, line 6\u001b[39m\n\u001b[31m    \u001b[39m\u001b[31mprint('x: /t' +str(y))\u001b[39m\n    ^\n\u001b[31mIndentationError\u001b[39m\u001b[31m:\u001b[39m unexpected indent\n"
     ]
    }
   ],
   "source": [
    "def main(): \n",
    "    x = 120 # dalam bentuk biner :01111110\n",
    "    y = 127 # dalam bentuk biner :01111111\n",
    "    # menanmpilkan nilai x dan y \n",
    "    print('x: /t' +str(x))\n",
    "      print('x: /t' +str(y))\n",
    "    print('/nBitwise AND')\n",
    "    print('x&y /t:' +str(x&y))\n",
    "\n",
    "print('/nBitwise OR')\n",
    "print('x | y /t:' +str(x | y))\n",
    "print('/nBitwise XOR')\n",
    "print('x ^ y /t:' +str(x ^ y))\n",
    "print('/nBitwise NOT')\n",
    "print('~x/t:' +str( ~x))\n",
    "print('~y/t:' +str( ~y))\n",
    "print('\\nBitwise SHIFT LEFT')\n",
    "print('x << 1 \\t:' +str(x <<1))\n",
    "print('x << 1 \\t:' +str(y <<1))\n",
    "print('\\nBitwise SHIFT RIGHT')\n",
    "print('x >> 1 \\t:' +str(x >>1))\n",
    "print('x >> 1 \\t:' +str(y >>1))\n",
    "\n",
    "if __name__==' __main__': \n",
    "    main()\n"
   ]
  },
  {
   "cell_type": "code",
   "execution_count": 10,
   "id": "d37e4b20-8d36-44db-aad1-b2770eaebf87",
   "metadata": {},
   "outputs": [
    {
     "ename": "IndentationError",
     "evalue": "unexpected indent (3587617187.py, line 6)",
     "output_type": "error",
     "traceback": [
      "  \u001b[36mCell\u001b[39m\u001b[36m \u001b[39m\u001b[32mIn[10]\u001b[39m\u001b[32m, line 6\u001b[39m\n\u001b[31m    \u001b[39m\u001b[31mprint('x: \\t' +str(y))\u001b[39m\n    ^\n\u001b[31mIndentationError\u001b[39m\u001b[31m:\u001b[39m unexpected indent\n"
     ]
    }
   ],
   "source": [
    "def main(): \n",
    "    x = 120 # dalam bentuk biner :01111110\n",
    "    y = 127 # dalam bentuk biner :01111111\n",
    "    # menanmpilkan nilai x dan y \n",
    "    print('x: \\t' +str(x))\n",
    "      print('x: \\t' +str(y))\n",
    "    print('/nBitwise AND')\n",
    "    print('x&y \\t:' +str(x&y))\n",
    "\n",
    "print('/nBitwise OR')\n",
    "print('x | y \\t:' +str(x | y))\n",
    "print('/nBitwise XOR')\n",
    "print('x ^ y \\t:' +str(x ^ y))\n",
    "print('/nBitwise NOT')\n",
    "print('~x\\t:' +str( ~x))\n",
    "print('~y\\t:' +str( ~y))\n",
    "print('\\nBitwise SHIFT LEFT')\n",
    "print('x << 1 \\t:' +str(x <<1))\n",
    "print('x << 01 \\t:' +str(y <<1))\n",
    "print('\\nBitwise SHIFT RIGHT')\n",
    "print('x >> 1 \\t:' +str(x >>1))\n",
    "print('x >> 1 \\t:' +str(y >>1))\n",
    "\n",
    "if __name__==' __main__': \n",
    "    main()\n"
   ]
  },
  {
   "cell_type": "code",
   "execution_count": 11,
   "id": "b51f80ea-4605-4705-b3bd-c9a4e3836583",
   "metadata": {},
   "outputs": [
    {
     "ename": "IndentationError",
     "evalue": "unexpected indent (3478975457.py, line 6)",
     "output_type": "error",
     "traceback": [
      "  \u001b[36mCell\u001b[39m\u001b[36m \u001b[39m\u001b[32mIn[11]\u001b[39m\u001b[32m, line 6\u001b[39m\n\u001b[31m    \u001b[39m\u001b[31mprint('y: \\t' +str(y))\u001b[39m\n    ^\n\u001b[31mIndentationError\u001b[39m\u001b[31m:\u001b[39m unexpected indent\n"
     ]
    }
   ],
   "source": [
    "def main(): \n",
    "    x = 120 # dalam bentuk biner :01111110\n",
    "    y = 127 # dalam bentuk biner :01111111\n",
    "    # menanmpilkan nilai x dan y \n",
    "    print('x: \\t' +str(x))\n",
    "    print('y: \\t' +str(y))\n",
    "    \n",
    "    print('/nBitwise AND')\n",
    "    print('x&y \\t:' +str(x&y))\n",
    "\n",
    "print('/nBitwise OR')\n",
    "print('x | y \\t:' +str(x | y))\n",
    "print('/nBitwise XOR')\n",
    "print('x ^ y \\t:' +str(x ^ y))\n",
    "print('/nBitwise NOT')\n",
    "print('~x\\t:' +str( ~x))\n",
    "print('~y\\t:' +str( ~y))\n",
    "print('\\nBitwise SHIFT LEFT')\n",
    "print('x << 1 \\t:' +str(x <<1))\n",
    "print('x << 01 \\t:' +str(y <<1))\n",
    "print('\\nBitwise SHIFT RIGHT')\n",
    "print('x >> 1 \\t:' +str(x >>1))\n",
    "print('x >> 1 \\t:' +str(y >>1))\n",
    "\n",
    "if __name__==' __main__': \n",
    "    main()"
   ]
  },
  {
   "cell_type": "code",
   "execution_count": 12,
   "id": "e345df29-d4e4-4a87-bb04-40952ba34bd5",
   "metadata": {},
   "outputs": [
    {
     "ename": "IndentationError",
     "evalue": "unexpected indent (2164718021.py, line 6)",
     "output_type": "error",
     "traceback": [
      "  \u001b[36mCell\u001b[39m\u001b[36m \u001b[39m\u001b[32mIn[12]\u001b[39m\u001b[32m, line 6\u001b[39m\n\u001b[31m    \u001b[39m\u001b[31mprint('y: \\t' +str(y))\u001b[39m\n    ^\n\u001b[31mIndentationError\u001b[39m\u001b[31m:\u001b[39m unexpected indent\n"
     ]
    }
   ],
   "source": [
    "def main(): \n",
    "    x = 120 # dalam bentuk biner :01111110\n",
    "    y = 127 # dalam bentuk biner :01111111\n",
    "    # menanmpilkan nilai x dan y \n",
    "    print('x: \\t' +str(x))\n",
    "      print('y: \\t' +str(y))\n",
    "    print('/nBitwise AND')\n",
    "    print('x&y \\t:' +str(x&y))\n",
    "\n",
    "print('/nBitwise OR')\n",
    "print('x | y \\t:' +str(x | y))\n",
    "print('/nBitwise XOR')\n",
    "print('x ^ y \\t:' +str(x ^ y))\n",
    "print('/nBitwise NOT')\n",
    "print('~x\\t:' +str( ~x))\n",
    "print('~y\\t:' +str( ~y))\n",
    "print('\\nBitwise SHIFT LEFT')\n",
    "print('x << 1 \\t:' +str(x <<1))\n",
    "print('x << 1 \\t:' +str(y <<1))\n",
    "print('\\nBitwise SHIFT RIGHT')\n",
    "print('x >> 1 \\t:' +str(x >>1))\n",
    "print('x >> 1 \\t:' +str(y >>1))\n",
    "\n",
    "if __name__==' __main__': \n",
    "    main()"
   ]
  },
  {
   "cell_type": "code",
   "execution_count": 13,
   "id": "e048a4ad-7632-429b-b41c-7c550080bc3b",
   "metadata": {},
   "outputs": [
    {
     "name": "stdout",
     "output_type": "stream",
     "text": [
      "/nBitwise OR\n"
     ]
    },
    {
     "ename": "NameError",
     "evalue": "name 'x' is not defined",
     "output_type": "error",
     "traceback": [
      "\u001b[31m---------------------------------------------------------------------------\u001b[39m",
      "\u001b[31mNameError\u001b[39m                                 Traceback (most recent call last)",
      "\u001b[36mCell\u001b[39m\u001b[36m \u001b[39m\u001b[32mIn[13]\u001b[39m\u001b[32m, line 12\u001b[39m\n\u001b[32m      9\u001b[39m     \u001b[38;5;28mprint\u001b[39m(\u001b[33m'\u001b[39m\u001b[33mx&y \u001b[39m\u001b[38;5;130;01m\\t\u001b[39;00m\u001b[33m:\u001b[39m\u001b[33m'\u001b[39m +\u001b[38;5;28mstr\u001b[39m(x&y))\n\u001b[32m     11\u001b[39m \u001b[38;5;28mprint\u001b[39m(\u001b[33m'\u001b[39m\u001b[33m/nBitwise OR\u001b[39m\u001b[33m'\u001b[39m)\n\u001b[32m---> \u001b[39m\u001b[32m12\u001b[39m \u001b[38;5;28mprint\u001b[39m(\u001b[33m'\u001b[39m\u001b[33mx | y \u001b[39m\u001b[38;5;130;01m\\t\u001b[39;00m\u001b[33m:\u001b[39m\u001b[33m'\u001b[39m +\u001b[38;5;28mstr\u001b[39m(\u001b[43mx\u001b[49m | y))\n\u001b[32m     13\u001b[39m \u001b[38;5;28mprint\u001b[39m(\u001b[33m'\u001b[39m\u001b[33m/nBitwise XOR\u001b[39m\u001b[33m'\u001b[39m)\n\u001b[32m     14\u001b[39m \u001b[38;5;28mprint\u001b[39m(\u001b[33m'\u001b[39m\u001b[33mx ^ y \u001b[39m\u001b[38;5;130;01m\\t\u001b[39;00m\u001b[33m:\u001b[39m\u001b[33m'\u001b[39m +\u001b[38;5;28mstr\u001b[39m(x ^ y))\n",
      "\u001b[31mNameError\u001b[39m: name 'x' is not defined"
     ]
    }
   ],
   "source": [
    "def main(): \n",
    "    x = 120 # dalam bentuk biner :01111110\n",
    "    y = 127 # dalam bentuk biner :01111111\n",
    "    # menanmpilkan nilai x dan y \n",
    "    print('x: \\t' +str(x))\n",
    "    print('y: \\t' +str(y))\n",
    "    \n",
    "    print('/nBitwise AND')\n",
    "    print('x&y \\t:' +str(x&y))\n",
    "\n",
    "print('/nBitwise OR')\n",
    "print('x | y \\t:' +str(x | y))\n",
    "print('/nBitwise XOR')\n",
    "print('x ^ y \\t:' +str(x ^ y))\n",
    "print('/nBitwise NOT')\n",
    "print('~x\\t:' +str( ~x))\n",
    "print('~y\\t:' +str( ~y))\n",
    "print('\\nBitwise SHIFT LEFT')\n",
    "print('x << 1 \\t:' +str(x <<1))\n",
    "print('x << 01 \\t:' +str(y <<1))\n",
    "print('\\nBitwise SHIFT RIGHT')\n",
    "print('x >> 1 \\t:' +str(x >>1))\n",
    "print('x >> 1 \\t:' +str(y >>1))\n",
    "\n",
    "if __name__==' __main__': \n",
    "    main()"
   ]
  },
  {
   "cell_type": "code",
   "execution_count": 14,
   "id": "98931ed2-ef46-411a-a6dd-28133abb05f9",
   "metadata": {},
   "outputs": [],
   "source": [
    "def main(): \n",
    "    x = 120 # dalam bentuk biner :01111110\n",
    "    y = 127 # dalam bentuk biner :01111111\n",
    "    # menanmpilkan nilai x dan y \n",
    "    print('x: \\t' +str(x))\n",
    "    print('y: \\t' +str(y))\n",
    "    \n",
    "    print('/nBitwise AND')\n",
    "    print('x&y \\t:' +str(x&y))\n",
    "\n",
    "     \n",
    "    print('/nBitwise XOR')\n",
    "    print('x ^ y \\t:' +str(x ^ y))\n",
    "    \n",
    "    print('/nBitwise NOT')\n",
    "    print('~x\\t:' +str( ~x))\n",
    "    print('~y\\t:' +str( ~y))\n",
    "    \n",
    "    print('\\nBitwise SHIFT LEFT')\n",
    "    print('x << 1 \\t:' +str(x <<1))\n",
    "    print('x << 01 \\t:' +str(y <<1))\n",
    "    \n",
    "    print('\\nBitwise SHIFT RIGHT')\n",
    "    print('x >> 1 \\t:' +str(x >>1))\n",
    "    print('x >> 1 \\t:' +str(y >>1))\n",
    "\n",
    "if __name__==' __main__': \n",
    "    main()"
   ]
  },
  {
   "cell_type": "code",
   "execution_count": null,
   "id": "760e1fb9-9dfc-42e0-a89d-f6ce558f8377",
   "metadata": {},
   "outputs": [],
   "source": []
  },
  {
   "cell_type": "code",
   "execution_count": null,
   "id": "575ce93f-44a4-468c-abdf-674e161c1c8d",
   "metadata": {},
   "outputs": [],
   "source": []
  }
 ],
 "metadata": {
  "kernelspec": {
   "display_name": "Python 3 (ipykernel)",
   "language": "python",
   "name": "python3"
  },
  "language_info": {
   "codemirror_mode": {
    "name": "ipython",
    "version": 3
   },
   "file_extension": ".py",
   "mimetype": "text/x-python",
   "name": "python",
   "nbconvert_exporter": "python",
   "pygments_lexer": "ipython3",
   "version": "3.11.5"
  }
 },
 "nbformat": 4,
 "nbformat_minor": 5
}
