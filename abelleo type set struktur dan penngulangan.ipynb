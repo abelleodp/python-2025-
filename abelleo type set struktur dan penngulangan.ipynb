{
 "cells": [
  {
   "cell_type": "code",
   "execution_count": 1,
   "id": "f1932e68-516b-4009-a0a2-3754b84f3e94",
   "metadata": {},
   "outputs": [
    {
     "name": "stdout",
     "output_type": "stream",
     "text": [
      "{32, 43, 11, 21}\n"
     ]
    }
   ],
   "source": [
    "# type set \n",
    "s = set([11 , 21, 32, 43])\n",
    "print(s)"
   ]
  },
  {
   "cell_type": "code",
   "execution_count": 2,
   "id": "f6f6af0c-935f-4e3c-8776-f76a845e5927",
   "metadata": {},
   "outputs": [
    {
     "name": "stdout",
     "output_type": "stream",
     "text": [
      "frozenset({1, 2, 3})\n"
     ]
    }
   ],
   "source": [
    "# contoh \n",
    "fs = frozenset([1, 2, 3])\n",
    "print(fs)"
   ]
  },
  {
   "cell_type": "code",
   "execution_count": 3,
   "id": "f46628ed-bcb8-4d9f-ac6a-d203927b67e8",
   "metadata": {},
   "outputs": [
    {
     "name": "stdout",
     "output_type": "stream",
     "text": [
      "Operasi union:\n",
      "{1, 2, 3, 4}\n",
      "Operasi intersection:\n",
      "{3}\n",
      "Operasi difference:\n",
      "{1, 2}\n",
      "Operasi symetric difference:\n",
      "{1, 2, 4}\n"
     ]
    }
   ],
   "source": [
    "# type set mendukung operasi operasi himpunan seperti\n",
    "x = set([1, 2, 3])\n",
    "y = set([3, 4]) \n",
    "\n",
    "a = x | y # union \n",
    "print('Operasi union:')\n",
    "print(a)\n",
    "\n",
    "b = x & y # intersection\n",
    "print('Operasi intersection:')\n",
    "print(b)\n",
    "\n",
    "c = x - y \n",
    "print('Operasi difference:')\n",
    "print(c) \n",
    "\n",
    "d = x ^ y \n",
    "print('Operasi symetric difference:')\n",
    "print(d) "
   ]
  },
  {
   "cell_type": "code",
   "execution_count": 1,
   "id": "c7bf7be9-4e5a-4c47-a2d1-0563ea20f542",
   "metadata": {},
   "outputs": [
    {
     "ename": "SyntaxError",
     "evalue": "unterminated string literal (detected at line 8) (4169092662.py, line 8)",
     "output_type": "error",
     "traceback": [
      "  \u001b[36mCell\u001b[39m\u001b[36m \u001b[39m\u001b[32mIn[1]\u001b[39m\u001b[32m, line 8\u001b[39m\n\u001b[31m    \u001b[39m\u001b[31mprint('%.2f +%.2f = %.2f % (x, y, x+y))\u001b[39m\n          ^\n\u001b[31mSyntaxError\u001b[39m\u001b[31m:\u001b[39m unterminated string literal (detected at line 8)\n"
     ]
    }
   ],
   "source": [
    "# contoh kode python \n",
    "def main() : \n",
    "    x = float(input('masukan bilangan pertama\\t:'))\n",
    "    y = float(input('masukan bilangan pertama\\t:'))\n",
    "    op = input('masukan operator (+,-,*,/)\\t:')\n",
    "    \n",
    "    if op == '+':\n",
    "        print('%.2f +%.2f = %.2f % (x, y, x+y)) \n",
    "              elif op == '-':\n",
    "        print('%.2f - %.2f = %.2f % (x, y, x-y)) \n",
    "               "
   ]
  },
  {
   "cell_type": "code",
   "execution_count": 2,
   "id": "2cca69b0-d854-4e6c-9308-0af6b2457744",
   "metadata": {},
   "outputs": [
    {
     "name": "stdout",
     "output_type": "stream",
     "text": [
      "python"
     ]
    }
   ],
   "source": [
    "a = 'python'\n",
    "# menelusuri semua karakter dalam stribg : a\n",
    "for c in a:\n",
    "    print(c, end='') "
   ]
  },
  {
   "cell_type": "code",
   "execution_count": null,
   "id": "ade9f6b4-b730-4715-aaa3-cdb7d0d52ae2",
   "metadata": {},
   "outputs": [],
   "source": []
  }
 ],
 "metadata": {
  "kernelspec": {
   "display_name": "Python 3 (ipykernel)",
   "language": "python",
   "name": "python3"
  },
  "language_info": {
   "codemirror_mode": {
    "name": "ipython",
    "version": 3
   },
   "file_extension": ".py",
   "mimetype": "text/x-python",
   "name": "python",
   "nbconvert_exporter": "python",
   "pygments_lexer": "ipython3",
   "version": "3.11.5"
  }
 },
 "nbformat": 4,
 "nbformat_minor": 5
}
